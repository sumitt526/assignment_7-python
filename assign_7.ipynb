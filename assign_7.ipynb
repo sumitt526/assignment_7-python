{
 "cells": [
  {
   "cell_type": "code",
   "execution_count": 3,
   "id": "d87f2d8b-930f-4b56-a798-59aa4fe0d33e",
   "metadata": {},
   "outputs": [],
   "source": [
    "#qsn 1 solution:-\n",
    "\n",
    "list1 = [1,2,3,4, [44,55,66, True], False, (34,56,78,89,34), {1,2,3,3,2,1}, {1:34, \"key2\": [55, 67, 78, 89], \n",
    "4: (45, 22, 61, 34)}, [56, 'data science'], 'Machine Learning']\n",
    "\n",
    "def result(x):\n",
    "    \n",
    "    new_list = []\n",
    "    for i in x:\n",
    "        if type(i)==int:\n",
    "            new_list.append(i)\n",
    "        elif type(i)==list:\n",
    "            for j in i:\n",
    "                if type(j)==int:\n",
    "                    new_list.append(j)\n",
    "        elif type(i)==tuple:\n",
    "            for j in i:\n",
    "                if type(j)==int:\n",
    "                    new_list.append(j)\n",
    "        elif type(i)==set:\n",
    "            for j in i:\n",
    "                if type(j)==int:\n",
    "                    new_list.append(j)\n",
    "        elif type(i)==dict:\n",
    "            for j in i.items():\n",
    "                new_list.append(j[0])\n",
    "                \n",
    "                if type(j[1])==int or type(j[1])==str:\n",
    "                    new_list.append(j[1])\n",
    "                \n",
    "               \n",
    "                else:\n",
    "                    for l in j[1]:\n",
    "                        new_list.append(l)\n",
    "    \n",
    "        \n",
    "    flat_list = []\n",
    "    for i in new_list:\n",
    "        if type(i)==int:\n",
    "            flat_list.append(i)\n",
    "    product = 1\n",
    "    for i in flat_list:\n",
    "        product = product * i\n",
    "        \n",
    "    print(\"flat_list = \",flat_list)\n",
    "    \n",
    "    print(\"product of list is shown below: \")\n",
    "    return product\n",
    "    "
   ]
  },
  {
   "cell_type": "code",
   "execution_count": 4,
   "id": "3c6e026e-4e3d-4be7-9f9a-3e66aeae5539",
   "metadata": {},
   "outputs": [
    {
     "name": "stdout",
     "output_type": "stream",
     "text": [
      "flat_list =  [1, 2, 3, 4, 44, 55, 66, 34, 56, 78, 89, 34, 1, 2, 3, 1, 34, 55, 67, 78, 89, 4, 45, 22, 61, 34, 56]\n",
      "product of list is shown below: \n"
     ]
    },
    {
     "data": {
      "text/plain": [
       "4134711838987085478833841242112000"
      ]
     },
     "execution_count": 4,
     "metadata": {},
     "output_type": "execute_result"
    }
   ],
   "source": [
    "result(list1)"
   ]
  },
  {
   "cell_type": "code",
   "execution_count": 41,
   "id": "5641176e-6685-45cb-89f1-ec735a41f2de",
   "metadata": {},
   "outputs": [
    {
     "name": "stdin",
     "output_type": "stream",
     "text": [
      "enter your message for encryption:-  i want to become a data scientist.\n"
     ]
    },
    {
     "name": "stdout",
     "output_type": "stream",
     "text": [
      "i$wznt$to$yexome$z$dztz$sxientist.\n"
     ]
    }
   ],
   "source": [
    "#qsn 2 solution:-\n",
    "\n",
    "msg = input(\"enter your message for encryption:- \")\n",
    "\n",
    "message = msg.lower()\n",
    "for i in message:\n",
    "    if i == \"a\":\n",
    "        s1 = message.replace('a','z')\n",
    "for i in s1:\n",
    "    if i == 'b':\n",
    "        s2 = s1.replace('b','y')\n",
    "for i in s2:\n",
    "    if i == 'c':\n",
    "        s3 = s2.replace('c','x') \n",
    "for i in s3:\n",
    "    if i == ' ':\n",
    "        s4 = s3.replace(' ','$')\n",
    "print(s4) \n",
    "        "
   ]
  },
  {
   "cell_type": "code",
   "execution_count": null,
   "id": "238ce93a-aed4-44fe-9cc3-a63fb0d09d2d",
   "metadata": {},
   "outputs": [],
   "source": []
  }
 ],
 "metadata": {
  "kernelspec": {
   "display_name": "Python 3 (ipykernel)",
   "language": "python",
   "name": "python3"
  },
  "language_info": {
   "codemirror_mode": {
    "name": "ipython",
    "version": 3
   },
   "file_extension": ".py",
   "mimetype": "text/x-python",
   "name": "python",
   "nbconvert_exporter": "python",
   "pygments_lexer": "ipython3",
   "version": "3.10.8"
  }
 },
 "nbformat": 4,
 "nbformat_minor": 5
}
